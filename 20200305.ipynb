{
  "nbformat": 4,
  "nbformat_minor": 0,
  "metadata": {
    "colab": {
      "name": "20200305.ipynb",
      "provenance": [],
      "authorship_tag": "ABX9TyPIVvujqRrAtIrXQXcUOE24",
      "include_colab_link": true
    },
    "kernelspec": {
      "name": "python3",
      "display_name": "Python 3"
    },
    "accelerator": "GPU"
  },
  "cells": [
    {
      "cell_type": "markdown",
      "metadata": {
        "id": "view-in-github",
        "colab_type": "text"
      },
      "source": [
        "<a href=\"https://colab.research.google.com/github/d93y70123123/AI/blob/master/20200305.ipynb\" target=\"_parent\"><img src=\"https://colab.research.google.com/assets/colab-badge.svg\" alt=\"Open In Colab\"/></a>"
      ]
    },
    {
      "cell_type": "markdown",
      "metadata": {
        "id": "8e1TevBOXC25",
        "colab_type": "text"
      },
      "source": [
        "### **Day1**"
      ]
    },
    {
      "cell_type": "markdown",
      "metadata": {
        "id": "ZUWAuuMfXLao",
        "colab_type": "text"
      },
      "source": [
        "# ***基本輸入:讀取使用者的輸入***"
      ]
    },
    {
      "cell_type": "code",
      "metadata": {
        "id": "9g2bjKJyXHQw",
        "colab_type": "code",
        "outputId": "822fc265-2c05-472b-df4e-5629c1588fbd",
        "colab": {
          "base_uri": "https://localhost:8080/",
          "height": 52
        }
      },
      "source": [
        "x = input('Enter your name:')\n",
        "print('Hello, ' + x)"
      ],
      "execution_count": 0,
      "outputs": [
        {
          "output_type": "stream",
          "text": [
            "Enter your name:kai\n",
            "Hello, kai\n"
          ],
          "name": "stdout"
        }
      ]
    },
    {
      "cell_type": "code",
      "metadata": {
        "id": "rv1_jyfvXQov",
        "colab_type": "code",
        "outputId": "71829308-8244-4564-bb61-87753784cf33",
        "colab": {
          "base_uri": "https://localhost:8080/",
          "height": 52
        }
      },
      "source": [
        "a = input(\"請輸入：\")\n",
        "type(a)"
      ],
      "execution_count": 0,
      "outputs": [
        {
          "output_type": "stream",
          "text": [
            "請輸入：aa\n"
          ],
          "name": "stdout"
        },
        {
          "output_type": "execute_result",
          "data": {
            "text/plain": [
              "str"
            ]
          },
          "metadata": {
            "tags": []
          },
          "execution_count": 111
        }
      ]
    },
    {
      "cell_type": "markdown",
      "metadata": {
        "id": "i-vnv5zZXtVd",
        "colab_type": "text"
      },
      "source": [
        "# **[程式除錯題]錯誤的做法：請指出底下程式的錯誤**"
      ]
    },
    {
      "cell_type": "code",
      "metadata": {
        "colab_type": "code",
        "id": "WODmnvXYgc6l",
        "outputId": "851a2224-dae3-4989-b04f-805e47951bc2",
        "colab": {
          "base_uri": "https://localhost:8080/",
          "height": 35
        }
      },
      "source": [
        "\"\"\"\n",
        "a = input(\"請輸入：\")\n",
        "a\n",
        "b=a+1\n",
        "b\n",
        "\"\"\""
      ],
      "execution_count": 0,
      "outputs": [
        {
          "output_type": "execute_result",
          "data": {
            "text/plain": [
              "'\\na = input(\"請輸入：\")\\na\\nb=a+1\\nb\\n'"
            ]
          },
          "metadata": {
            "tags": []
          },
          "execution_count": 112
        }
      ]
    },
    {
      "cell_type": "markdown",
      "metadata": {
        "id": "ypuYjBXeYIhz",
        "colab_type": "text"
      },
      "source": [
        "## **讀取使用者輸入的整數==>使用eval()函數**"
      ]
    },
    {
      "cell_type": "code",
      "metadata": {
        "id": "bObc2n8oYJbv",
        "colab_type": "code",
        "outputId": "e020d356-dab9-48e5-be12-bee06ff6ae33",
        "colab": {
          "base_uri": "https://localhost:8080/",
          "height": 52
        }
      },
      "source": [
        "a = eval(input(\"請輸入：\"))\n",
        "a\n",
        "b=a+1\n",
        "b"
      ],
      "execution_count": 0,
      "outputs": [
        {
          "output_type": "stream",
          "text": [
            "請輸入：12\n"
          ],
          "name": "stdout"
        },
        {
          "output_type": "execute_result",
          "data": {
            "text/plain": [
              "13"
            ]
          },
          "metadata": {
            "tags": []
          },
          "execution_count": 113
        }
      ]
    },
    {
      "cell_type": "markdown",
      "metadata": {
        "id": "bzqyOnDHYVHN",
        "colab_type": "text"
      },
      "source": [
        "## **超級重要:可以一次輸入多（兩）個資料**"
      ]
    },
    {
      "cell_type": "code",
      "metadata": {
        "id": "zlxK7eXBYWeS",
        "colab_type": "code",
        "outputId": "5746c56b-1824-4569-e356-9853f4c6acb1",
        "colab": {
          "base_uri": "https://localhost:8080/",
          "height": 52
        }
      },
      "source": [
        "a,b = eval(input(\"請輸入兩個數位：\"))\n",
        "a,b"
      ],
      "execution_count": 0,
      "outputs": [
        {
          "output_type": "stream",
          "text": [
            "請輸入兩個數位：12,23\n"
          ],
          "name": "stdout"
        },
        {
          "output_type": "execute_result",
          "data": {
            "text/plain": [
              "(12, 23)"
            ]
          },
          "metadata": {
            "tags": []
          },
          "execution_count": 114
        }
      ]
    },
    {
      "cell_type": "markdown",
      "metadata": {
        "id": "n4mtmKIGZRVN",
        "colab_type": "text"
      },
      "source": [
        "### **Day2**"
      ]
    },
    {
      "cell_type": "code",
      "metadata": {
        "id": "yM1_xeouZTTg",
        "colab_type": "code",
        "outputId": "921e863f-f014-470f-809b-18321f6f50fb",
        "colab": {
          "base_uri": "https://localhost:8080/",
          "height": 208
        }
      },
      "source": [
        "str1 = '這是字串'\n",
        "print(str1)\n",
        "\n",
        "str2 = \"這也是字串\"\n",
        "print(str2)\n",
        "\n",
        "str3 = 'allows embedded \"double\" quotes'\n",
        "print(str3)\n",
        "\n",
        "\"\"\"## 存取字串中的值: 使用方括號\"\"\"\n",
        "\n",
        "#!/usr/bin/python\n",
        " \n",
        "var1 = 'Hello Python!'\n",
        " \n",
        "print(\"var1[0]: \", var1[0])\n",
        "print(\"var1[1:8]: \", var1[1:8])\n",
        "\n",
        "\"\"\"## 字串的更新\"\"\"\n",
        "\n",
        "#!/usr/bin/python\n",
        "# -*- coding: UTF-8 -*-\n",
        " \n",
        "str1 = 'Hello World!'\n",
        "\n",
        "print(\"更新前的字串-> \", str1[:])\n",
        "print(\"更新前的字串(也可以這樣寫)-> \", str1)\n",
        "print(\"更新後的字串-> \", str1[:6] + 'Python!')\n",
        "\n",
        "\"\"\"## 字串的加法運算\"\"\"\n",
        "\n",
        "str4=str1 + str2\n",
        "print(str4)\n",
        "\n",
        "\"\"\"##  更多練習\"\"\"\n",
        "\n",
        "a='  Hello   '\n",
        "b='  Python ! '\n",
        "\n",
        "a+b\n",
        "\n",
        "a*2\n",
        "\n",
        "a[1:4]\n",
        "\n",
        "\"H\" in a\n",
        "\n",
        "\"H\" not in a\n",
        "\n",
        "\"\"\"# 字串反轉\n",
        "\n",
        "Reverse string in Python (5 different ways)\n",
        "\n",
        "https://www.geeksforgeeks.org/reverse-string-python-5-different-ways/\n",
        "\"\"\"\n",
        "\n",
        "def reverse(s): \n",
        "    if len(s) == 0: \n",
        "        return s \n",
        "    else: \n",
        "        return reverse(s[1:]) + s[0] \n",
        "  \n",
        "#s = \"HappyHackingDay\"\n",
        "s = \"BreakAllCTF{HappyHackingDay}\"\n",
        "\n",
        "print (\"The original string  is : \",end=\"\") \n",
        "print (s) \n",
        "  \n",
        "print (\"The reversed string(using recursion) is : \",end=\"\") \n",
        "print (reverse(s))"
      ],
      "execution_count": 0,
      "outputs": [
        {
          "output_type": "stream",
          "text": [
            "這是字串\n",
            "這也是字串\n",
            "allows embedded \"double\" quotes\n",
            "var1[0]:  H\n",
            "var1[1:8]:  ello Py\n",
            "更新前的字串->  Hello World!\n",
            "更新前的字串(也可以這樣寫)->  Hello World!\n",
            "更新後的字串->  Hello Python!\n",
            "Hello World!這也是字串\n",
            "The original string  is : BreakAllCTF{HappyHackingDay}\n",
            "The reversed string(using recursion) is : }yaDgnikcaHyppaH{FTCllAkaerB\n"
          ],
          "name": "stdout"
        }
      ]
    },
    {
      "cell_type": "markdown",
      "metadata": {
        "id": "2I4IP4hHaW0I",
        "colab_type": "text"
      },
      "source": [
        "# 更多的練習"
      ]
    },
    {
      "cell_type": "code",
      "metadata": {
        "id": "_GaiBhQ6aJJB",
        "colab_type": "code",
        "outputId": "bb83747e-ddc0-4fc9-dc5c-1e824e4e50f0",
        "colab": {
          "base_uri": "https://localhost:8080/",
          "height": 253
        }
      },
      "source": [
        "str1='happy python day'\n",
        "str2='    Oh!   '\n",
        "str4=str1 + str2\n",
        "print(str4.capitalize())\n",
        "\n",
        "mystr = 'python'\n",
        "str4.find(pyth, beg=0, end=len(str4))\n",
        "\n",
        "print(str4.encode('base64'))"
      ],
      "execution_count": 0,
      "outputs": [
        {
          "output_type": "stream",
          "text": [
            "Happy python day    oh!   \n"
          ],
          "name": "stdout"
        },
        {
          "output_type": "error",
          "ename": "NameError",
          "evalue": "ignored",
          "traceback": [
            "\u001b[0;31m---------------------------------------------------------------------------\u001b[0m",
            "\u001b[0;31mNameError\u001b[0m                                 Traceback (most recent call last)",
            "\u001b[0;32m<ipython-input-116-549824ffb15c>\u001b[0m in \u001b[0;36m<module>\u001b[0;34m()\u001b[0m\n\u001b[1;32m      5\u001b[0m \u001b[0;34m\u001b[0m\u001b[0m\n\u001b[1;32m      6\u001b[0m \u001b[0mmystr\u001b[0m \u001b[0;34m=\u001b[0m \u001b[0;34m'python'\u001b[0m\u001b[0;34m\u001b[0m\u001b[0;34m\u001b[0m\u001b[0m\n\u001b[0;32m----> 7\u001b[0;31m \u001b[0mstr4\u001b[0m\u001b[0;34m.\u001b[0m\u001b[0mfind\u001b[0m\u001b[0;34m(\u001b[0m\u001b[0mpyth\u001b[0m\u001b[0;34m,\u001b[0m \u001b[0mbeg\u001b[0m\u001b[0;34m=\u001b[0m\u001b[0;36m0\u001b[0m\u001b[0;34m,\u001b[0m \u001b[0mend\u001b[0m\u001b[0;34m=\u001b[0m\u001b[0mlen\u001b[0m\u001b[0;34m(\u001b[0m\u001b[0mstr4\u001b[0m\u001b[0;34m)\u001b[0m\u001b[0;34m)\u001b[0m\u001b[0;34m\u001b[0m\u001b[0;34m\u001b[0m\u001b[0m\n\u001b[0m\u001b[1;32m      8\u001b[0m \u001b[0;34m\u001b[0m\u001b[0m\n\u001b[1;32m      9\u001b[0m \u001b[0mprint\u001b[0m\u001b[0;34m(\u001b[0m\u001b[0mstr4\u001b[0m\u001b[0;34m.\u001b[0m\u001b[0mencode\u001b[0m\u001b[0;34m(\u001b[0m\u001b[0;34m'base64'\u001b[0m\u001b[0;34m)\u001b[0m\u001b[0;34m)\u001b[0m\u001b[0;34m\u001b[0m\u001b[0;34m\u001b[0m\u001b[0m\n",
            "\u001b[0;31mNameError\u001b[0m: name 'pyth' is not defined"
          ]
        }
      ]
    },
    {
      "cell_type": "code",
      "metadata": {
        "id": "VInrk50WaQbI",
        "colab_type": "code",
        "colab": {}
      },
      "source": [
        "#!/usr/bin/python\n",
        "# -*- coding: UTF-8 -*-\n",
        " \n",
        "str = \"Python2019\"\n",
        "print(str.isalpha())\n",
        "\n",
        "#!/usr/bin/python\n",
        "# -*- coding: UTF-8 -*-\n",
        " \n",
        "str = \"Python\"\n",
        "print(str.isalpha())"
      ],
      "execution_count": 0,
      "outputs": []
    },
    {
      "cell_type": "markdown",
      "metadata": {
        "id": "XoO-O62YabYG",
        "colab_type": "text"
      },
      "source": [
        "### **如果 string 至少有一個字元並且所有字元都是字母或數字則返回 True, 否則返回 False**"
      ]
    },
    {
      "cell_type": "code",
      "metadata": {
        "id": "Btam6Yb_aehd",
        "colab_type": "code",
        "colab": {}
      },
      "source": [
        "#!/usr/bin/python\n",
        "# -*- coding: UTF-8 -*-\n",
        " \n",
        "str = \"Python2019\"\n",
        "print(str.isalnum())\n",
        "\n",
        "str = \"Python\"\n",
        "print(str.isalnum())\n",
        "\n",
        "str = \"2019\"\n",
        "print(str.isalnum())\n",
        "\n",
        "str = \"Python 2019\"\n",
        "print(str.isalnum())"
      ],
      "execution_count": 0,
      "outputs": []
    },
    {
      "cell_type": "code",
      "metadata": {
        "id": "KTm1ewx1PQNd",
        "colab_type": "code",
        "colab": {}
      },
      "source": [
        "#! /usr/bin/python3\n",
        "\n",
        "print(\"Hello world\")"
      ],
      "execution_count": 0,
      "outputs": []
    },
    {
      "cell_type": "markdown",
      "metadata": {
        "id": "LKcp8s2eaxOe",
        "colab_type": "text"
      },
      "source": [
        "### **Day2_資料型態**"
      ]
    },
    {
      "cell_type": "code",
      "metadata": {
        "id": "KM-CcThZa4Kg",
        "colab_type": "code",
        "colab": {}
      },
      "source": [
        "a = 17 / 3\n",
        "b = 17 // 3\n",
        "c = 17 % 3\n",
        "\n",
        "a,b,c"
      ],
      "execution_count": 0,
      "outputs": []
    },
    {
      "cell_type": "code",
      "metadata": {
        "id": "-wWYY9iHa7sN",
        "colab_type": "code",
        "colab": {}
      },
      "source": [
        "var1 = 'Hello Python!'\n",
        " \n",
        "print(\"var1[0]: \", var1[0])\n",
        "print(\"var1[1:8]: \", var1[1:8])\n"
      ],
      "execution_count": 0,
      "outputs": []
    },
    {
      "cell_type": "code",
      "metadata": {
        "id": "O4X3L-nSa_NW",
        "colab_type": "code",
        "colab": {}
      },
      "source": [
        "list1 = [21, 33, 14, 12, 32,98]\n",
        "\n",
        "list1[1]\n",
        "len(list1)\n",
        "max(list1)\n",
        "min(list1)\n",
        "sum(list1)"
      ],
      "execution_count": 0,
      "outputs": []
    },
    {
      "cell_type": "code",
      "metadata": {
        "id": "HVPK9eq9bCdV",
        "colab_type": "code",
        "colab": {}
      },
      "source": [
        "dict = {'Name': 'DaDaLong', 'Age': 17, 'Class': 'First'}\n",
        " \n",
        "print(\"dict['Name']: \", dict['Name'])\n",
        "print(\"dict['Age']: \", dict['Age'])"
      ],
      "execution_count": 0,
      "outputs": []
    },
    {
      "cell_type": "markdown",
      "metadata": {
        "id": "bogliu7nbJBV",
        "colab_type": "text"
      },
      "source": [
        "## **算術運算**"
      ]
    },
    {
      "cell_type": "code",
      "metadata": {
        "id": "3qWy_oR4bKQN",
        "colab_type": "code",
        "colab": {}
      },
      "source": [
        "-3%2"
      ],
      "execution_count": 0,
      "outputs": []
    },
    {
      "cell_type": "code",
      "metadata": {
        "id": "6PiDwz1dbNU1",
        "colab_type": "code",
        "colab": {}
      },
      "source": [
        "a = 7//2\n",
        "b = 7.0//2\n",
        "c = 7//2.0\n",
        "a,b,c"
      ],
      "execution_count": 0,
      "outputs": []
    },
    {
      "cell_type": "code",
      "metadata": {
        "id": "WpnKvXWDbQcc",
        "colab_type": "code",
        "colab": {}
      },
      "source": [
        "5 ** 2"
      ],
      "execution_count": 0,
      "outputs": []
    },
    {
      "cell_type": "markdown",
      "metadata": {
        "id": "IRhB_Q9FbSa_",
        "colab_type": "text"
      },
      "source": [
        "## Logical Operators::"
      ]
    },
    {
      "cell_type": "code",
      "metadata": {
        "id": "Qj1X2mm9bTTl",
        "colab_type": "code",
        "colab": {}
      },
      "source": [
        "x = 5\n",
        "\n",
        "print(x > 3 and x < 10)"
      ],
      "execution_count": 0,
      "outputs": []
    },
    {
      "cell_type": "code",
      "metadata": {
        "id": "PhyH8G-3bXCt",
        "colab_type": "code",
        "colab": {}
      },
      "source": [
        "x = 5\n",
        "\n",
        "print(x > 3 or x < 4)"
      ],
      "execution_count": 0,
      "outputs": []
    },
    {
      "cell_type": "code",
      "metadata": {
        "id": "XNm8Cve_bYWV",
        "colab_type": "code",
        "colab": {}
      },
      "source": [
        "x = 5\n",
        "\n",
        "print(not(x > 3 and x < 10))"
      ],
      "execution_count": 0,
      "outputs": []
    },
    {
      "cell_type": "markdown",
      "metadata": {
        "id": "zkZQo_nKbaGW",
        "colab_type": "text"
      },
      "source": [
        "### **Bitwise Operators**"
      ]
    },
    {
      "cell_type": "code",
      "metadata": {
        "id": "eZQvzd2fbcFN",
        "colab_type": "code",
        "colab": {}
      },
      "source": [
        "#!/usr/bin/python3\n",
        " \n",
        "a = 60            # 60 = 0011 1100 \n",
        "b = 13            # 13 = 0000 1101 \n",
        "c = 0\n",
        "\n",
        "print (\"0 - a =  60 = 0011 1100(二進位) \")\n",
        "print (\"0 - b =  13 = 0000 1101(二進位) \")\n",
        "c = a & b;        # 12 = 0000 1100\n",
        "print (\"1 - c = a & b的值為：\", c)\n",
        " \n",
        "c = a | b;        # 61 = 0011 1101 \n",
        "print (\"2 - c = a | b的值為：\", c)\n",
        " \n",
        "c = a ^ b;        # 49 = 0011 0001\n",
        "print (\"3 - c= a ^ b 的值為：\", c)\n",
        " \n",
        "c = ~a;           # -61 = 1100 0011\n",
        "print (\"4 - c = ~a的值為：\", c)\n",
        " \n",
        "c = a << 2;       # 240 = 1111 0000\n",
        "print (\"5 - c = a << 2的值為：\", c)\n",
        " \n",
        "c = a >> 2;       # 15 = 0000 1111\n",
        "print (\"6 - c = a >> 2的值為：\", c)"
      ],
      "execution_count": 0,
      "outputs": []
    },
    {
      "cell_type": "markdown",
      "metadata": {
        "id": "ltkF-JHibfdM",
        "colab_type": "text"
      },
      "source": [
        "### **進位轉換**"
      ]
    },
    {
      "cell_type": "code",
      "metadata": {
        "id": "KIhH_4IbbhXd",
        "colab_type": "code",
        "colab": {}
      },
      "source": [
        "x = bin(36)\n",
        "x\n",
        "\n",
        "x = oct(36)\n",
        "x\n",
        "\n",
        "x = hex(255)\n",
        "x"
      ],
      "execution_count": 0,
      "outputs": []
    },
    {
      "cell_type": "markdown",
      "metadata": {
        "id": "GyzxZmo2bif1",
        "colab_type": "text"
      },
      "source": [
        "### **int()函數的測試**"
      ]
    },
    {
      "cell_type": "code",
      "metadata": {
        "id": "LoKFnwpDbliT",
        "colab_type": "code",
        "colab": {}
      },
      "source": [
        "x=int('10',2)\n",
        "x\n",
        "\n",
        "x=int('10',16)\n",
        "x\n",
        "\n",
        "x=int('10',8)\n",
        "x"
      ],
      "execution_count": 0,
      "outputs": []
    },
    {
      "cell_type": "markdown",
      "metadata": {
        "id": "pOS46eKZbpSP",
        "colab_type": "text"
      },
      "source": [
        "### **round()函數的測試**"
      ]
    },
    {
      "cell_type": "code",
      "metadata": {
        "id": "2N4QTJ5AbnqV",
        "colab_type": "code",
        "colab": {}
      },
      "source": [
        "#Round a number to only two decimals:\n",
        "\n",
        "x = round(5.76543, 2)\n",
        "print(x)\n",
        "\n",
        "# Round to the nearest integer:\n",
        "\n",
        "x = round(5.76543)\n",
        "print(x)"
      ],
      "execution_count": 0,
      "outputs": []
    },
    {
      "cell_type": "markdown",
      "metadata": {
        "id": "Ca1ve3ivbtT_",
        "colab_type": "text"
      },
      "source": [
        "### **Python 類型轉換**"
      ]
    },
    {
      "cell_type": "code",
      "metadata": {
        "id": "NFXxanlDbvkm",
        "colab_type": "code",
        "colab": {}
      },
      "source": [
        "a = 1.0004\n",
        "int(a)\n",
        "\n",
        "b = 0.9999\n",
        "int(a)"
      ],
      "execution_count": 0,
      "outputs": []
    },
    {
      "cell_type": "markdown",
      "metadata": {
        "id": "tSi70Xscbxts",
        "colab_type": "text"
      },
      "source": [
        "### **運算子優先順序**"
      ]
    },
    {
      "cell_type": "markdown",
      "metadata": {
        "id": "2ZcCuukab2MB",
        "colab_type": "text"
      },
      "source": [
        "# **Day3**"
      ]
    },
    {
      "cell_type": "markdown",
      "metadata": {
        "id": "xd-r65c1b7rG",
        "colab_type": "text"
      },
      "source": [
        "### **[程式設計題]請問從元旦到今天你已經過幾天呢了？**"
      ]
    },
    {
      "cell_type": "code",
      "metadata": {
        "id": "YsttgAonb4At",
        "colab_type": "code",
        "colab": {}
      },
      "source": [
        "import time  # 使用python標準函數庫的time模組{處理時間的函數}\n",
        "\n",
        "date = time.localtime()\t\n",
        "print(date)\n",
        "import time\n",
        "\n",
        "date = time.localtime()\t\t#取得目前的日期時間\n",
        "year = date[0]\n",
        "month = date[1]\n",
        "day = date[2]\n",
        "\n",
        "day_month = [31, 28, 31, 30, 31, 30, 31, 31, 30, 31, 30, 31]\n",
        "\n",
        "if year%400==0 or (year%4==0 and year%100!=0):\t#判斷是否為閏年\n",
        "  day_month[1] = 29\n",
        "\n",
        "if month==1:\n",
        "    print(day)\n",
        "else:\n",
        "    print(sum(day_month[:month-1])+day)"
      ],
      "execution_count": 0,
      "outputs": []
    },
    {
      "cell_type": "markdown",
      "metadata": {
        "id": "xrsxldREb_Me",
        "colab_type": "text"
      },
      "source": [
        "### **[程式設計題]輸入年月日可以顯示那一年從元旦到今天已經過幾天**"
      ]
    },
    {
      "cell_type": "code",
      "metadata": {
        "id": "9fyeVjjvcDbH",
        "colab_type": "code",
        "colab": {}
      },
      "source": [
        "year, month, day = eval(input(\"請輸入年月日\"))\n",
        "year, month, day "
      ],
      "execution_count": 0,
      "outputs": []
    },
    {
      "cell_type": "markdown",
      "metadata": {
        "id": "HxA708P1cF4m",
        "colab_type": "text"
      },
      "source": [
        "### **多向判斷式（if⋯elif⋯else）多選一**"
      ]
    },
    {
      "cell_type": "code",
      "metadata": {
        "id": "S2KMYSz6cJRO",
        "colab_type": "code",
        "colab": {}
      },
      "source": [
        "money = int(input(\"請輸入購物金額：\"))\n",
        "\n",
        "if(money >= 10000):\n",
        "    if(money >= 100000):\n",
        "        print(money * 0.8, end=\" 元\\n\")  #八折\n",
        "    elif(money >= 50000):\n",
        "        print(money * 0.85, end=\" 元\\n\")  #八五折\n",
        "    elif(money >= 30000):\n",
        "        print(money * 0.9, end=\" 元\\n\")  #九折\n",
        "    else:\n",
        "        print(money * 0.95, end=\" 元\\n\")  #九五折\n",
        "else:\n",
        "    print(money, end=\" 元\\n\")  #未打折"
      ],
      "execution_count": 0,
      "outputs": []
    },
    {
      "cell_type": "markdown",
      "metadata": {
        "id": "LO7818afZO8b",
        "colab_type": "text"
      },
      "source": [
        "# **Day4**"
      ]
    },
    {
      "cell_type": "markdown",
      "metadata": {
        "id": "y7QdjsagVrGN",
        "colab_type": "text"
      },
      "source": [
        "### **range() 函式**"
      ]
    },
    {
      "cell_type": "code",
      "metadata": {
        "id": "Po-aQ_KHS_-_",
        "colab_type": "code",
        "colab": {}
      },
      "source": [
        "list1=range(10)\n",
        "print(list1)"
      ],
      "execution_count": 0,
      "outputs": []
    },
    {
      "cell_type": "code",
      "metadata": {
        "id": "XoCufns7S_jM",
        "colab_type": "code",
        "colab": {}
      },
      "source": [
        "print(list(list1))"
      ],
      "execution_count": 0,
      "outputs": []
    },
    {
      "cell_type": "code",
      "metadata": {
        "id": "ruiX0XoKTW6u",
        "colab_type": "code",
        "colab": {}
      },
      "source": [
        "list1=range(-4,5)\n",
        "print(list(list1))"
      ],
      "execution_count": 0,
      "outputs": []
    },
    {
      "cell_type": "code",
      "metadata": {
        "id": "v07r0vxmTW32",
        "colab_type": "code",
        "colab": {}
      },
      "source": [
        "for x in range(19):\n",
        "  print(x)"
      ],
      "execution_count": 0,
      "outputs": []
    },
    {
      "cell_type": "code",
      "metadata": {
        "id": "E00Wha0vTW1T",
        "colab_type": "code",
        "colab": {}
      },
      "source": [
        "for x in range(0,19,2):\n",
        "  print(x)"
      ],
      "execution_count": 0,
      "outputs": []
    },
    {
      "cell_type": "code",
      "metadata": {
        "id": "-XMMAJVyTWyb",
        "colab_type": "code",
        "colab": {}
      },
      "source": [
        "for x in range(20,11,-1):\n",
        "  print(x)"
      ],
      "execution_count": 0,
      "outputs": []
    },
    {
      "cell_type": "code",
      "metadata": {
        "id": "rFbyysrtTWvL",
        "colab_type": "code",
        "colab": {}
      },
      "source": [
        "for x in range(0,19,-1):\n",
        "  print(x)\n",
        "  "
      ],
      "execution_count": 0,
      "outputs": []
    },
    {
      "cell_type": "code",
      "metadata": {
        "id": "GTuQNLzgTWoc",
        "colab_type": "code",
        "colab": {}
      },
      "source": [
        "output = ''\n",
        "for x in range(0,19,3):\n",
        "  output += str(x)\n",
        "  print(output, end=\" \")\n",
        "\n",
        "output = ''"
      ],
      "execution_count": 0,
      "outputs": []
    },
    {
      "cell_type": "code",
      "metadata": {
        "id": "4drR0YlzTWfW",
        "colab_type": "code",
        "colab": {}
      },
      "source": [
        "for x in range(0,19,3):\n",
        "  print(x, end=\" \")"
      ],
      "execution_count": 0,
      "outputs": []
    },
    {
      "cell_type": "code",
      "metadata": {
        "id": "zXEaVbMBTWNG",
        "colab_type": "code",
        "colab": {}
      },
      "source": [
        "list1 = range(0,19,3)"
      ],
      "execution_count": 0,
      "outputs": []
    },
    {
      "cell_type": "code",
      "metadata": {
        "id": "n9RGDIVRTvE_",
        "colab_type": "code",
        "colab": {}
      },
      "source": [
        "for x in list1:\n",
        "  print(x, end=\" \")"
      ],
      "execution_count": 0,
      "outputs": []
    },
    {
      "cell_type": "markdown",
      "metadata": {
        "id": "x7Bego-tVbt3",
        "colab_type": "text"
      },
      "source": [
        "### **for 迴圈**"
      ]
    },
    {
      "cell_type": "code",
      "metadata": {
        "id": "VGRnpyXRUTC2",
        "colab_type": "code",
        "colab": {}
      },
      "source": [
        "for n in range(5):\n",
        "  print(n)"
      ],
      "execution_count": 0,
      "outputs": []
    },
    {
      "cell_type": "code",
      "metadata": {
        "id": "Rl9XBUW4UTOA",
        "colab_type": "code",
        "colab": {}
      },
      "source": [
        "\n",
        "for n in range(10):\n",
        "    print(n, end='@')\n",
        "\n",
        "    #print(n, end='%%%%')"
      ],
      "execution_count": 0,
      "outputs": []
    },
    {
      "cell_type": "code",
      "metadata": {
        "id": "pYbs0S42UTUX",
        "colab_type": "code",
        "colab": {}
      },
      "source": [
        "mysum = 0\n",
        "\n",
        "for n in range(5):\n",
        "  mysum += n\n",
        "  print(mysum)"
      ],
      "execution_count": 0,
      "outputs": []
    },
    {
      "cell_type": "code",
      "metadata": {
        "id": "8HLnrK2cUTW8",
        "colab_type": "code",
        "colab": {}
      },
      "source": [
        "mysum = 0\n",
        "\n",
        "for n in range(5):\n",
        "  mysum += n\n",
        "\n",
        "print(mysum)"
      ],
      "execution_count": 0,
      "outputs": []
    },
    {
      "cell_type": "code",
      "metadata": {
        "id": "rZB0kjLFUTaD",
        "colab_type": "code",
        "colab": {}
      },
      "source": [
        "x = int(input(\"請輸入一個正整數:\"))\n",
        "mysum = 0\n",
        "\n",
        "for n in range(x):\n",
        "  mysum += n\n",
        "\n",
        "print(mysum)"
      ],
      "execution_count": 0,
      "outputs": []
    },
    {
      "cell_type": "markdown",
      "metadata": {
        "id": "ndk_lmyCV1Hc",
        "colab_type": "text"
      },
      "source": [
        "### **While Loop**"
      ]
    },
    {
      "cell_type": "code",
      "metadata": {
        "id": "laOk09vfUTc4",
        "colab_type": "code",
        "colab": {}
      },
      "source": [
        "total = i = 1\n",
        "\n",
        "n = int(input(\"請輸入正整數 n 的值：\"))\n",
        "\n",
        "while(i<=n):\n",
        "    total *= i  \n",
        "    i+=1      \n",
        "\n",
        "print(\"%d!=%d\" % (n, total))"
      ],
      "execution_count": 0,
      "outputs": []
    },
    {
      "cell_type": "markdown",
      "metadata": {
        "id": "OGlj2YgBWKUv",
        "colab_type": "text"
      },
      "source": [
        "### **break 指令**"
      ]
    },
    {
      "cell_type": "code",
      "metadata": {
        "id": "sqfBlaWfUTfm",
        "colab_type": "code",
        "colab": {}
      },
      "source": [
        "fruits = [\"香蕉\",\"蘋果\",\"橘子\",\"鳳梨\",\"西瓜\"]\n",
        "\n",
        "while True:\n",
        "    fruit = input(\"請輸入喜歡的水果(Enter 結束)：\")\n",
        "\n",
        "  #  if (fruit==\"\"):\n",
        "  #      break\n",
        "\n",
        "    n = fruits.count(fruit) \n",
        "    if (n>0):  # 串列元素存在\n",
        "        p=fruits.index(fruit)\n",
        "        print(\"%s 在串列中的第 %d 項\" %(fruit,p+1))\n",
        "    else:\n",
        "        print(fruit,\"不在串列中!\")"
      ],
      "execution_count": 0,
      "outputs": []
    },
    {
      "cell_type": "markdown",
      "metadata": {
        "id": "fwdxPnw-WObm",
        "colab_type": "text"
      },
      "source": [
        "### **continue 指令**"
      ]
    },
    {
      "cell_type": "code",
      "metadata": {
        "id": "b7M7017LUTie",
        "colab_type": "code",
        "colab": {}
      },
      "source": [
        "n = int(input(\"請輸入正整數：\"))\n",
        "\n",
        "for i in range(1, n+1):\n",
        "    if i % 5 ==0:\n",
        "        continue\n",
        "    print(i,end=\" \")"
      ],
      "execution_count": 0,
      "outputs": []
    },
    {
      "cell_type": "markdown",
      "metadata": {
        "id": "_Er3iiF9Wc-H",
        "colab_type": "text"
      },
      "source": [
        "### **[程式閱讀題] 執行下列程式並說明其結果**"
      ]
    },
    {
      "cell_type": "code",
      "metadata": {
        "id": "oIi16G4SUTli",
        "colab_type": "code",
        "colab": {}
      },
      "source": [
        "numbers = [21, 4, 35, 1, 8, 7, 3, 6, 9]\n",
        "my_numbers = []\n",
        "\n",
        "for number in numbers:\n",
        "  if (number % 2 != 0): \n",
        "    my_numbers.append(number)\n",
        "\n",
        "print(my_numbers)"
      ],
      "execution_count": 0,
      "outputs": []
    },
    {
      "cell_type": "code",
      "metadata": {
        "id": "NZchcZXUUToc",
        "colab_type": "code",
        "colab": {}
      },
      "source": [
        "#!/usr/bin/python\n",
        "# -*- coding: UTF-8 -*-\n",
        " \n",
        "for i in range(1,6):\n",
        "    for j in range(1,5):\n",
        "        for k in range(1,7):\n",
        "            if( i != k ) and (i != j) and (j != k):\n",
        "                print(i,j,k)"
      ],
      "execution_count": 0,
      "outputs": []
    },
    {
      "cell_type": "code",
      "metadata": {
        "id": "qMwgyceGUTrr",
        "colab_type": "code",
        "colab": {}
      },
      "source": [
        "#!/usr/bin/python\n",
        "# -*- coding: UTF-8 -*-\n",
        " \n",
        "i = int(input('淨利潤:'))\n",
        "\n",
        "arr = [1000000,600000,400000,200000,100000,0]\n",
        "rat = [0.01,0.015,0.03,0.05,0.075,0.1]\n",
        "r = 0\n",
        "\n",
        "for idx in range(0,6):\n",
        "    if i>arr[idx]:\n",
        "        r+=(i-arr[idx])*rat[idx]\n",
        "        print((i-arr[idx])*rat[idx])\n",
        "        i=arr[idx]\n",
        "\n",
        "print(r)"
      ],
      "execution_count": 0,
      "outputs": []
    },
    {
      "cell_type": "markdown",
      "metadata": {
        "id": "90aClPuYcPKt",
        "colab_type": "text"
      },
      "source": [
        "# **Day5**"
      ]
    },
    {
      "cell_type": "code",
      "metadata": {
        "id": "vWhQoT02cUz2",
        "colab_type": "code",
        "colab": {}
      },
      "source": [
        "def sum(i1, i2):\n",
        "    result = 0\n",
        "    for i in range(i1, i2):\n",
        "        result += i\n",
        "    return result\n",
        "\n",
        "def main():\n",
        "    print(\"Sum from 1 to 10 is\", sum(1, 11)) \n",
        "    print(\"Sum from 20 to 37 is\", sum(20, 38))\n",
        "    print(\"Sum from 35 to 49 is\", sum(35, 50))\n",
        "\n",
        "main() # Call the main function"
      ],
      "execution_count": 0,
      "outputs": []
    },
    {
      "cell_type": "markdown",
      "metadata": {
        "id": "jJnRvKWycYT-",
        "colab_type": "text"
      },
      "source": [
        "### **寫一個函式將輸入的兩個變數值互換**"
      ]
    },
    {
      "cell_type": "code",
      "metadata": {
        "id": "sGXZAqtycdKX",
        "colab_type": "code",
        "colab": {}
      },
      "source": [
        "#!/usr/bin/python\n",
        "# -*- coding: UTF-8 -*-\n",
        " \n",
        "def swap(a,b):\n",
        "    a,b = b,a\n",
        "    return (a,b)\n",
        " \n",
        "if __name__ == '__main__':\n",
        "    x = 10\n",
        "    y = 20\n",
        "    print('x = %d,y = %d' % (x,y))\n",
        "    x,y = swap(x,y)\n",
        "    print('x = %d,y = %d' % (x,y))"
      ],
      "execution_count": 0,
      "outputs": []
    },
    {
      "cell_type": "markdown",
      "metadata": {
        "id": "ysQ5A8b1cgwA",
        "colab_type": "text"
      },
      "source": [
        "### **函式與回傳值**"
      ]
    },
    {
      "cell_type": "code",
      "metadata": {
        "id": "QjVnQg4kckvV",
        "colab_type": "code",
        "colab": {}
      },
      "source": [
        "#!/usr/bin/python \n",
        "# -*- coding: UTF-8 -*- \n",
        "\n",
        "def sort(number1, number2):\n",
        "    if number1 < number2:\n",
        "        return number1, number2\n",
        "    else:\n",
        "        return number2, number1\n",
        "\n",
        "num1, num2 = sort(31, 25)\n",
        "\n",
        "print(\"num1 is\", num1)\n",
        "print(\"num2 is\", num2)"
      ],
      "execution_count": 0,
      "outputs": []
    },
    {
      "cell_type": "markdown",
      "metadata": {
        "id": "vNDn1Ow9cowb",
        "colab_type": "text"
      },
      "source": [
        "### **函式與參數**"
      ]
    },
    {
      "cell_type": "code",
      "metadata": {
        "id": "X7Ot3sfHcqhN",
        "colab_type": "code",
        "colab": {}
      },
      "source": [
        "#!/usr/bin/python \n",
        "# -*- coding: UTF-8 -*- \n",
        "\n",
        "def printArea(width = 11, height = 12):\n",
        "    area = width * height\n",
        "    print(\"width:\", width, \"\\theight:\", height, \"\\tarea:\", area)\n",
        "\n",
        "printArea() \n",
        "printArea(4, 2.5) # Positional arguments width = 4 and height = 2.5\n",
        "printArea(height = 5, width = 3) # Keyword arguments width \n",
        "printArea(width = 1.2) # Default height = 2\n",
        "printArea(height = 6.2) # Default widht = 1"
      ],
      "execution_count": 0,
      "outputs": []
    },
    {
      "cell_type": "markdown",
      "metadata": {
        "id": "FotsPmZJcrK5",
        "colab_type": "text"
      },
      "source": [
        "### **[小小測驗]:執行下列程式並說明其結果\"\"\"**"
      ]
    },
    {
      "cell_type": "code",
      "metadata": {
        "id": "rZst9Tp5cuVm",
        "colab_type": "code",
        "colab": {}
      },
      "source": [
        "#!/usr/bin/python \n",
        "# -*- coding: UTF-8 -*- \n",
        "\n",
        "def hello_3(greeting='Hello', name='world'): \n",
        "    print('{}, {}!'.format(greeting, name)) \n",
        "\n",
        "    \n",
        "hello_3() \n",
        "hello_3('Greetings') \n",
        "hello_3('Greetings', 'universe')\n",
        "hello_3(name='GGGGGGoood')"
      ],
      "execution_count": 0,
      "outputs": []
    },
    {
      "cell_type": "markdown",
      "metadata": {
        "id": "xlIjUz6fcu67",
        "colab_type": "text"
      },
      "source": [
        "### [特別注意]要將字典dict型的資料傳給函數時,記得要使用**\"\"\" **bold text**"
      ]
    },
    {
      "cell_type": "code",
      "metadata": {
        "id": "Xe5gsK9Nc1PK",
        "colab_type": "code",
        "colab": {}
      },
      "source": [
        "params = {'name': 'Sir Simon Rattle', 'greeting': 'To my Great Conductor'}\n",
        "hello_3(**params)"
      ],
      "execution_count": 0,
      "outputs": []
    },
    {
      "cell_type": "markdown",
      "metadata": {
        "id": "nVC0Ya7nc3b1",
        "colab_type": "text"
      },
      "source": [
        "### collectiong parameters(任意數量的參數):* 與 ** italicized text"
      ]
    },
    {
      "cell_type": "code",
      "metadata": {
        "id": "0piZfMANc7iu",
        "colab_type": "code",
        "colab": {}
      },
      "source": [
        "def print_params(*params): \n",
        "    print(params) \n",
        "\n",
        "print_params('Testing') \n",
        "\n",
        "print_params(1, 2, 3) \n",
        "\n",
        "\n",
        "# return的是tuple資料型態\n",
        "\n",
        "#可和一般參數齊用\n",
        "\n",
        "def print_params_2(title, *params): \n",
        "    print(title) \n",
        "    print(params)\n",
        "\n",
        "print_params_2('Params:', 1, 2, 3)\n",
        "print_params_2('Nothing:')"
      ],
      "execution_count": 0,
      "outputs": []
    },
    {
      "cell_type": "markdown",
      "metadata": {
        "id": "lHe1zjPAc-Gv",
        "colab_type": "text"
      },
      "source": [
        "### 撰寫擁有任意數量參數的函式且要支援關鍵字參數==>使用** **bold text**"
      ]
    },
    {
      "cell_type": "code",
      "metadata": {
        "id": "KTQewZVPdAkW",
        "colab_type": "code",
        "colab": {}
      },
      "source": [
        "def print_params_3(**params): \n",
        "    print(params) \n",
        "\n",
        "print_params_3(x=1, y=2, z=3) \n",
        "\n",
        "# return的是dict(字典資料型態)\n",
        "\n",
        "def print_params_4(x, y, z=3, *pospar, **keypar): \n",
        "    print(x, y, z) \n",
        "    print(pospar) \n",
        "    print(keypar) \n",
        "\n",
        "print_params_4(1, 2, 4, 5, 6, 7, foo=1, bar=2)\n",
        "\n",
        "print_params_4(1, 2)"
      ],
      "execution_count": 0,
      "outputs": []
    },
    {
      "cell_type": "markdown",
      "metadata": {
        "id": "-3U2x1DhdDB-",
        "colab_type": "text"
      },
      "source": [
        "### **變數的有效範圍**"
      ]
    },
    {
      "cell_type": "code",
      "metadata": {
        "id": "GY7mCqXJdG-P",
        "colab_type": "code",
        "colab": {}
      },
      "source": [
        "x = 111\n",
        "\n",
        "def f1():\n",
        "    x = 222\n",
        "    print(x) \n",
        "\n",
        "f1()\n",
        "print(x)\n",
        "\n",
        "x = 1\n",
        "\n",
        "def increase():\n",
        "    global x\n",
        "    x =  x + 1\n",
        "    print(x) \n",
        "\n",
        "increase()\n",
        "print(x)\n",
        "increase()\n",
        "increase()\n",
        "print(x)"
      ],
      "execution_count": 0,
      "outputs": []
    },
    {
      "cell_type": "markdown",
      "metadata": {
        "id": "oiSVCBxadJPf",
        "colab_type": "text"
      },
      "source": [
        "### **遞迴函式**"
      ]
    },
    {
      "cell_type": "markdown",
      "metadata": {
        "id": "KPHxQSoodRxV",
        "colab_type": "text"
      },
      "source": [
        "### **費氏數列**"
      ]
    },
    {
      "cell_type": "markdown",
      "metadata": {
        "id": "CXv5HU_bdVIG",
        "colab_type": "text"
      },
      "source": [
        "### **方法一:使用 recursive**"
      ]
    },
    {
      "cell_type": "code",
      "metadata": {
        "id": "Lt9ypU6FdYgG",
        "colab_type": "code",
        "colab": {}
      },
      "source": [
        "#!/usr/bin/python\n",
        "# -*- coding: UTF-8 -*-\n",
        "\n",
        "def fib(n):\n",
        "    if n==1 or n==2:\n",
        "        return 1\n",
        "    return fib(n-1)+fib(n-2)\n",
        "\n",
        "print(fib(10))"
      ],
      "execution_count": 0,
      "outputs": []
    },
    {
      "cell_type": "markdown",
      "metadata": {
        "id": "RdIMIJLydabH",
        "colab_type": "text"
      },
      "source": [
        "### **方法二:使用 iterative**"
      ]
    },
    {
      "cell_type": "code",
      "metadata": {
        "id": "4PAXKPyEUTvG",
        "colab_type": "code",
        "colab": {}
      },
      "source": [
        "#!/usr/bin/python\n",
        "# -*- coding: UTF-8 -*-\n",
        " \n",
        "def fib(n):\n",
        "    a,b = 1,1\n",
        "    for i in range(n-1):\n",
        "        a,b = b,a+b\n",
        "    return a\n",
        " \n",
        "print(fib(10))"
      ],
      "execution_count": 0,
      "outputs": []
    },
    {
      "cell_type": "markdown",
      "metadata": {
        "id": "V9V4sAwgde0P",
        "colab_type": "text"
      },
      "source": [
        "### **問題:要如何知道函數被呼叫的次數??**"
      ]
    },
    {
      "cell_type": "code",
      "metadata": {
        "id": "IeZi9vcWUTxM",
        "colab_type": "code",
        "colab": {}
      },
      "source": [
        "#!/usr/bin/python\n",
        "# -*- coding: UTF-8 -*-\n",
        "\n",
        "def fib(x):\t\n",
        "\tglobal numFibCalls\n",
        "\tnumFibCalls += 1\n",
        "\t\n",
        "\tif x == 0 or x == 1:\n",
        "           return 1\n",
        "\telse:\n",
        "          return fib(x-1) + fib(x-2)\n",
        "\n",
        "def testFib(n):\n",
        "\tfor i in range(n+1):\n",
        "          global numFibCalls\n",
        "          numFibCalls = 0\n",
        "          print('fib of', i, '=', fib(i))\n",
        "          print('fib called', numFibCalls, 'times.')\n",
        "\n",
        "testFib(4)"
      ],
      "execution_count": 0,
      "outputs": []
    },
    {
      "cell_type": "markdown",
      "metadata": {
        "id": "FNeYMzI9djRP",
        "colab_type": "text"
      },
      "source": [
        "### **Python內建函數**"
      ]
    },
    {
      "cell_type": "markdown",
      "metadata": {
        "id": "ImAMGQq-dmql",
        "colab_type": "text"
      },
      "source": [
        "## hex(x):Convert an integer number to a lowercase hexadecimal string prefixed with \"0x\""
      ]
    },
    {
      "cell_type": "code",
      "metadata": {
        "id": "e8MGEK4IUT0B",
        "colab_type": "code",
        "colab": {}
      },
      "source": [
        "hex(255)\n",
        "\n",
        "hex(-42)\n"
      ],
      "execution_count": 0,
      "outputs": []
    },
    {
      "cell_type": "markdown",
      "metadata": {
        "id": "J44Ome1NdpVj",
        "colab_type": "text"
      },
      "source": [
        "### **oct(x):Convert an integer number to an octal string prefixed with \"0o\"**"
      ]
    },
    {
      "cell_type": "code",
      "metadata": {
        "id": "zyLqqCG5UT21",
        "colab_type": "code",
        "colab": {}
      },
      "source": [
        "oct(8)\n",
        "\n",
        "oct(-56)"
      ],
      "execution_count": 0,
      "outputs": []
    },
    {
      "cell_type": "markdown",
      "metadata": {
        "id": "4t30a4w9dtKu",
        "colab_type": "text"
      },
      "source": [
        "### **bin(x):Convert an integer number to a binary string prefixed with \"0b\"**"
      ]
    },
    {
      "cell_type": "code",
      "metadata": {
        "id": "qukw_ENHUT5j",
        "colab_type": "code",
        "colab": {}
      },
      "source": [
        "bin(3)\n",
        "\n",
        "bin(-10)"
      ],
      "execution_count": 0,
      "outputs": []
    },
    {
      "cell_type": "code",
      "metadata": {
        "id": "hTPk5guxUT8a",
        "colab_type": "code",
        "colab": {}
      },
      "source": [
        ""
      ],
      "execution_count": 0,
      "outputs": []
    },
    {
      "cell_type": "code",
      "metadata": {
        "id": "bNPj1IrjUT_V",
        "colab_type": "code",
        "colab": {}
      },
      "source": [
        ""
      ],
      "execution_count": 0,
      "outputs": []
    },
    {
      "cell_type": "code",
      "metadata": {
        "id": "-IkdBqhRUUCh",
        "colab_type": "code",
        "colab": {}
      },
      "source": [
        ""
      ],
      "execution_count": 0,
      "outputs": []
    }
  ]
}