{
  "nbformat": 4,
  "nbformat_minor": 0,
  "metadata": {
    "colab": {
      "name": "OpenCV-0514.ipynb",
      "provenance": [],
      "collapsed_sections": [],
      "authorship_tag": "ABX9TyOqBq+hg4sZQSp/MZs2DJR0",
      "include_colab_link": true
    },
    "kernelspec": {
      "name": "python3",
      "display_name": "Python 3"
    }
  },
  "cells": [
    {
      "cell_type": "markdown",
      "metadata": {
        "id": "view-in-github",
        "colab_type": "text"
      },
      "source": [
        "<a href=\"https://colab.research.google.com/github/d93y70123123/AI/blob/master/OpenCV_0514.ipynb\" target=\"_parent\"><img src=\"https://colab.research.google.com/assets/colab-badge.svg\" alt=\"Open In Colab\"/></a>"
      ]
    },
    {
      "cell_type": "code",
      "metadata": {
        "id": "KcWdnSa22BWr",
        "colab_type": "code",
        "colab": {}
      },
      "source": [
        "import numpy as np\n",
        "import cv2"
      ],
      "execution_count": 0,
      "outputs": []
    },
    {
      "cell_type": "code",
      "metadata": {
        "id": "Njr6t2fS1jXS",
        "colab_type": "code",
        "colab": {
          "base_uri": "https://localhost:8080/",
          "height": 357
        },
        "outputId": "63615483-d0d5-4b80-e153-6c40104ee672"
      },
      "source": [
        "#!wget https://raw.githubusercontent.com/MyDearGreatTeacher/AISec_2020/master/opencv/data/lena.bmp\n",
        "!wget https://raw.githubusercontent.com/MyDearGreatTeacher/AISec_2020/master/opencv/data/Lenna.jpg\n",
        "!ls -al"
      ],
      "execution_count": 9,
      "outputs": [
        {
          "output_type": "stream",
          "text": [
            "--2020-05-14 06:24:16--  https://raw.githubusercontent.com/MyDearGreatTeacher/AISec_2020/master/opencv/data/Lenna.jpg\n",
            "Resolving raw.githubusercontent.com (raw.githubusercontent.com)... 151.101.0.133, 151.101.64.133, 151.101.128.133, ...\n",
            "Connecting to raw.githubusercontent.com (raw.githubusercontent.com)|151.101.0.133|:443... connected.\n",
            "HTTP request sent, awaiting response... 200 OK\n",
            "Length: 160012 (156K) [image/jpeg]\n",
            "Saving to: ‘Lenna.jpg’\n",
            "\n",
            "\rLenna.jpg             0%[                    ]       0  --.-KB/s               \rLenna.jpg           100%[===================>] 156.26K  --.-KB/s    in 0.02s   \n",
            "\n",
            "2020-05-14 06:24:16 (6.62 MB/s) - ‘Lenna.jpg’ saved [160012/160012]\n",
            "\n",
            "total 472\n",
            "drwxr-xr-x 1 root root   4096 May 14 06:24  .\n",
            "drwxr-xr-x 1 root root   4096 May 14 06:19  ..\n",
            "drwxr-xr-x 1 root root   4096 May  8 16:16  .config\n",
            "-rw-r--r-- 1 root root  66614 May 14 06:20  lena.bmp\n",
            "-rw-r--r-- 1 root root  66614 May 14 06:21  lena.bmp.1\n",
            "-rw-r--r-- 1 root root 160012 May 14 06:24  Lenna.jpg\n",
            "-rw-r--r-- 1 root root 160012 May 14 06:23 'Lenna.jpg?raw=true'\n",
            "drwxr-xr-x 1 root root   4096 May  4 16:26  sample_data\n"
          ],
          "name": "stdout"
        }
      ]
    },
    {
      "cell_type": "code",
      "metadata": {
        "id": "y22Z-KmL1v2l",
        "colab_type": "code",
        "colab": {
          "base_uri": "https://localhost:8080/",
          "height": 850
        },
        "outputId": "af479087-47fd-4922-c84f-8acdcd757fe9"
      },
      "source": [
        "# -*- coding: utf-8 -*-\n",
        "\n",
        "#lena=cv2.imread(\"lena.bmp\")\n",
        "lena=cv2.imread(\"Lenna.jpg\")\n",
        "#lena=cv2.imread(\"Lenna.jpg\")==>error\n",
        "print(lena)"
      ],
      "execution_count": 13,
      "outputs": [
        {
          "output_type": "stream",
          "text": [
            "[[[125 137 225]\n",
            "  [130 137 224]\n",
            "  [125 137 225]\n",
            "  ...\n",
            "  [125 149 233]\n",
            "  [121 145 229]\n",
            "  [101 115 211]]\n",
            "\n",
            " [[125 137 225]\n",
            "  [130 137 224]\n",
            "  [125 137 225]\n",
            "  ...\n",
            "  [125 149 233]\n",
            "  [121 145 229]\n",
            "  [101 115 211]]\n",
            "\n",
            " [[125 137 225]\n",
            "  [130 136 225]\n",
            "  [127 137 225]\n",
            "  ...\n",
            "  [125 149 233]\n",
            "  [118 144 228]\n",
            "  [101 115 211]]\n",
            "\n",
            " ...\n",
            "\n",
            " [[ 63  28  92]\n",
            "  [ 61  26  90]\n",
            "  [ 65  28  92]\n",
            "  ...\n",
            "  [ 79  63 157]\n",
            "  [ 78  65 167]\n",
            "  [ 76  62 164]]\n",
            "\n",
            " [[ 60  21  83]\n",
            "  [ 59  23  89]\n",
            "  [ 65  26  94]\n",
            "  ...\n",
            "  [ 81  67 168]\n",
            "  [ 79  70 174]\n",
            "  [ 80  67 177]]\n",
            "\n",
            " [[ 58  22  82]\n",
            "  [ 58  30  90]\n",
            "  [ 64  30  95]\n",
            "  ...\n",
            "  [ 82  71 175]\n",
            "  [ 77  71 180]\n",
            "  [ 80  74 183]]]\n"
          ],
          "name": "stdout"
        }
      ]
    },
    {
      "cell_type": "code",
      "metadata": {
        "id": "Qf68TRLj13Sk",
        "colab_type": "code",
        "colab": {
          "base_uri": "https://localhost:8080/",
          "height": 34
        },
        "outputId": "7c818fa1-2007-4287-a531-11038aa60209"
      },
      "source": [
        "type(lena)"
      ],
      "execution_count": 11,
      "outputs": [
        {
          "output_type": "execute_result",
          "data": {
            "text/plain": [
              "numpy.ndarray"
            ]
          },
          "metadata": {
            "tags": []
          },
          "execution_count": 11
        }
      ]
    }
  ]
}